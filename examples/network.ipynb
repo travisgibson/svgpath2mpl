{
 "cells": [
  {
   "cell_type": "code",
   "execution_count": 137,
   "metadata": {},
   "outputs": [],
   "source": [
    "%matplotlib inline\n",
    "from __future__ import division, print_function\n",
    "from six import StringIO\n",
    "import xml.etree.ElementTree as etree\n",
    "import re\n",
    "\n",
    "import matplotlib as mpl\n",
    "import matplotlib.pyplot as plt\n",
    "import numpy as np\n",
    "import requests\n",
    "\n",
    "from svgpath2mpl import parse_path"
   ]
  },
  {
   "cell_type": "code",
   "execution_count": null,
   "metadata": {},
   "outputs": [],
   "source": []
  },
  {
   "cell_type": "code",
   "execution_count": 141,
   "metadata": {},
   "outputs": [],
   "source": [
    "#r = requests.get('http://thenewcode.com/assets/images/thumbnails/homer-simpson.svg')\n",
    "with open(\"img/mouse.svg\", \"r\") as file:\n",
    "    text = file.read()\n",
    "\n",
    "tree = etree.parse(StringIO(text))\n",
    "root = tree.getroot()\n",
    "width = 10#int(re.match(r'\\d+', root.attrib['width']).group())\n",
    "height = 10#int(re.match(r'\\d+', root.attrib['height']).group())\n",
    "path_elems = root.findall('.//{http://www.w3.org/2000/svg}path')"
   ]
  },
  {
   "cell_type": "code",
   "execution_count": 149,
   "metadata": {},
   "outputs": [
    {
     "data": {
      "image/png": "[encoded data removed]",
      "text/plain": [
       "<Figure size 300x300 with 1 Axes>"
      ]
     },
     "metadata": {},
     "output_type": "display_data"
    }
   ],
   "source": [
    "paths = [parse_path(elem.attrib['d']) for elem in path_elems]\n",
    "facecolors = [elem.attrib.get('fill', 'none') for elem in path_elems]\n",
    "edgecolors = [elem.attrib.get('stroke', 'none') for elem in path_elems]\n",
    "linewidths = [elem.attrib.get('stroke_width', 1) for elem in path_elems]\n",
    "collection = mpl.collections.PathCollection(paths, \n",
    "                                      edgecolors=edgecolors, \n",
    "                                      linewidths=linewidths,\n",
    "                                      facecolors=facecolors)\n",
    "\n",
    "fig = plt.figure(figsize=(3,3))\n",
    "ax = fig.add_subplot()\n",
    "collection.set_transform(mpl.transforms.Affine2D().rotate_deg(180)+mpl.transforms.Affine2D().scale(.0025)+mpl.transforms.Affine2D().translate(4,3)+ax.transData)\n",
    "#mpl.transforms.Affine2D().rotate(1)\n",
    "\n",
    "ax.add_artist(collection)\n",
    "ax.set_xlim([-width, width])\n",
    "ax.set_ylim([-height, height])\n",
    "\n",
    "fig.savefig(\"mouse.pdf\")"
   ]
  },
  {
   "cell_type": "code",
   "execution_count": null,
   "metadata": {},
   "outputs": [],
   "source": []
  }
 ],
 "metadata": {
  "kernelspec": {
   "display_name": "Python 3",
   "language": "python",
   "name": "python3"
  },
  "language_info": {
   "codemirror_mode": {
    "name": "ipython",
    "version": 3
   },
   "file_extension": ".py",
   "mimetype": "text/x-python",
   "name": "python",
   "nbconvert_exporter": "python",
   "pygments_lexer": "ipython3",
   "version": "3.11.6"
  }
 },
 "nbformat": 4,
 "nbformat_minor": 1
}
